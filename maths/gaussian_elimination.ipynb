{
 "cells": [
  {
   "cell_type": "code",
   "execution_count": 1,
   "metadata": {},
   "outputs": [],
   "source": [
    "import numpy as np"
   ]
  },
  {
   "cell_type": "code",
   "execution_count": 2,
   "metadata": {},
   "outputs": [],
   "source": [
    "def non_zero_in_column(X,row):\n",
    "    X = X.copy()\n",
    "    for i in range(row,X.shape[0]):\n",
    "        if X[i,row] != 0:\n",
    "            X[i,row], X[row,i] = X[row,i], X[i,row]\n",
    "            break\n",
    "    return X"
   ]
  },
  {
   "cell_type": "code",
   "execution_count": 3,
   "metadata": {},
   "outputs": [],
   "source": [
    "def row_echelon_form(X,augmented=True):\n",
    "    check = X\n",
    "    if augmented:\n",
    "        check = X[:,:-1]\n",
    "    if np.isclose(np.linalg.det(check),0):\n",
    "        return 'Singular Matrix'\n",
    "    X = X.copy()\n",
    "    rows = X.shape[0]\n",
    "\n",
    "    for i in range(rows):\n",
    "        pivot_candidate = X[i,i]\n",
    "        \n",
    "        if np.isclose(pivot_candidate,0):\n",
    "            X = non_zero_in_column(X,i)\n",
    "        \n",
    "        pivot = X[i,i]\n",
    "\n",
    "        X[i,:] = X[i,:] / pivot\n",
    "\n",
    "        for j in range(i+1,rows):\n",
    "            if X[j,i] != 0:\n",
    "                X[j,:] = (X[j,:] / X[j,i]) - X[i,:]\n",
    "\n",
    "    return X"
   ]
  },
  {
   "cell_type": "code",
   "execution_count": 4,
   "metadata": {},
   "outputs": [],
   "source": [
    "def backsubstitution(X):\n",
    "    X = X.copy()\n",
    "    rows = X.shape[0]\n",
    "    for i in reversed(range(rows)):\n",
    "        backsub_row = X[i,:]\n",
    "\n",
    "        for j in reversed(range(i)):\n",
    "            X[j,:] = X[j,:] - (backsub_row * X[j,i])\n",
    "        \n",
    "    return X"
   ]
  },
  {
   "cell_type": "code",
   "execution_count": 5,
   "metadata": {},
   "outputs": [],
   "source": [
    "def gaussian_elimination(A,B):\n",
    "    augmented_matrix = np.hstack((A,B),dtype=np.float32)\n",
    "    reduced_form = row_echelon_form(augmented_matrix)\n",
    "    if isinstance(reduced_form,str):\n",
    "        return reduced_form\n",
    "    solution_matrix = backsubstitution(reduced_form)\n",
    "\n",
    "    return solution_matrix[:,-1] "
   ]
  },
  {
   "cell_type": "markdown",
   "metadata": {},
   "source": [
    "### **USING THE GAUSSIAN ELIMINATION FUNCTION TO SOLVE SYSTEMS OF EQUATIONS**"
   ]
  },
  {
   "cell_type": "markdown",
   "metadata": {},
   "source": [
    "<img src='system_1.png' width=\"500\"/>"
   ]
  },
  {
   "cell_type": "code",
   "execution_count": 6,
   "metadata": {},
   "outputs": [
    {
     "data": {
      "text/plain": [
       "array([7. , 0.5, 4. ], dtype=float32)"
      ]
     },
     "execution_count": 6,
     "metadata": {},
     "output_type": "execute_result"
    }
   ],
   "source": [
    "x = np.array([[1,-2,-1],[3,4,-6],[2,2,-3]])\n",
    "y = np.array([[2],[-1],[3]])\n",
    "\n",
    "gaussian_elimination(x,y)"
   ]
  },
  {
   "cell_type": "markdown",
   "metadata": {},
   "source": [
    "<img src='system_2.png' width=\"500\"/>"
   ]
  },
  {
   "cell_type": "code",
   "execution_count": 7,
   "metadata": {},
   "outputs": [
    {
     "data": {
      "text/plain": [
       "array([0.9999976, 2.0000038, 2.9999986], dtype=float32)"
      ]
     },
     "execution_count": 7,
     "metadata": {},
     "output_type": "execute_result"
    }
   ],
   "source": [
    "x = np.array([[1,1,1],[2,1,-1],[3,2,-1]])\n",
    "y = np.array([[6],[1],[4]])\n",
    "\n",
    "gaussian_elimination(x,y)"
   ]
  },
  {
   "cell_type": "markdown",
   "metadata": {},
   "source": [
    "<img src='system_3.png' width=\"500\"/>"
   ]
  },
  {
   "cell_type": "code",
   "execution_count": 8,
   "metadata": {},
   "outputs": [
    {
     "data": {
      "text/plain": [
       "array([ 5., -2.,  3.], dtype=float32)"
      ]
     },
     "execution_count": 8,
     "metadata": {},
     "output_type": "execute_result"
    }
   ],
   "source": [
    "x = np.array([[1,1,1],[2,3,5],[4,5,6]])\n",
    "y = np.array([[6],[19],[28]])\n",
    "\n",
    "gaussian_elimination(x,y)"
   ]
  }
 ],
 "metadata": {
  "kernelspec": {
   "display_name": "tf",
   "language": "python",
   "name": "python3"
  },
  "language_info": {
   "codemirror_mode": {
    "name": "ipython",
    "version": 3
   },
   "file_extension": ".py",
   "mimetype": "text/x-python",
   "name": "python",
   "nbconvert_exporter": "python",
   "pygments_lexer": "ipython3",
   "version": "3.9.19"
  }
 },
 "nbformat": 4,
 "nbformat_minor": 2
}
