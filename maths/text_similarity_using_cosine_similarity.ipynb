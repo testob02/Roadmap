{
 "cells": [
  {
   "cell_type": "code",
   "execution_count": 19,
   "metadata": {},
   "outputs": [],
   "source": [
    "import numpy as np"
   ]
  },
  {
   "cell_type": "code",
   "execution_count": 20,
   "metadata": {},
   "outputs": [],
   "source": [
    "def similarity_output(rating):\n",
    "    if rating <= 1 and rating >= 0.8:\n",
    "        print('The two texts are very similar')\n",
    "    elif rating < 0.8 and rating >= 0.5:\n",
    "        print('The two texts are a bit similar')\n",
    "    elif rating < 0.5 and rating >= 0.3:\n",
    "        print('The two texts are not similar')\n",
    "    elif rating < 0.3:\n",
    "        print('The two texts are very dissimilar')\n",
    "    "
   ]
  },
  {
   "cell_type": "code",
   "execution_count": 21,
   "metadata": {},
   "outputs": [],
   "source": [
    "def cosine_similarity(vec_a, vec_b):\n",
    "    dot_product = np.dot(vec_a, vec_b)\n",
    "    mag_product = np.linalg.norm(vec_a,ord=2) * np.linalg.norm(vec_b,ord=2)\n",
    "    cosine_angle = dot_product / mag_product\n",
    "\n",
    "    return cosine_angle"
   ]
  },
  {
   "cell_type": "code",
   "execution_count": 22,
   "metadata": {},
   "outputs": [],
   "source": [
    "def count_vector(text, words):\n",
    "    count_vector = []\n",
    "    for word in words:\n",
    "        count = 0\n",
    "        for x in text.split(' '):\n",
    "            if x == word:\n",
    "                count += 1\n",
    "        count_vector.append(count)\n",
    "    \n",
    "    return count_vector\n"
   ]
  },
  {
   "cell_type": "code",
   "execution_count": 23,
   "metadata": {},
   "outputs": [],
   "source": [
    "text_1 = input('Enter the first text to check').lower()\n",
    "text_2 = input('Enter the second text to check').lower()\n",
    "words = []\n",
    "while len(words) < 7:\n",
    "    words.append(input('Enter words to use for text similarity').lower())"
   ]
  },
  {
   "cell_type": "code",
   "execution_count": 24,
   "metadata": {},
   "outputs": [],
   "source": [
    "vec_a = count_vector(text_1, words)\n",
    "vec_b = count_vector(text_2, words)"
   ]
  },
  {
   "cell_type": "code",
   "execution_count": 25,
   "metadata": {},
   "outputs": [],
   "source": [
    "similarity_index = cosine_similarity(vec_a, vec_b)"
   ]
  },
  {
   "cell_type": "code",
   "execution_count": 26,
   "metadata": {},
   "outputs": [
    {
     "name": "stdout",
     "output_type": "stream",
     "text": [
      "0.7893522173763263\n"
     ]
    }
   ],
   "source": [
    "print(similarity_index)"
   ]
  },
  {
   "cell_type": "code",
   "execution_count": 27,
   "metadata": {},
   "outputs": [
    {
     "name": "stdout",
     "output_type": "stream",
     "text": [
      "The two texts are a bit similar\n"
     ]
    }
   ],
   "source": [
    "similarity_output(similarity_index)"
   ]
  }
 ],
 "metadata": {
  "kernelspec": {
   "display_name": "tf",
   "language": "python",
   "name": "python3"
  },
  "language_info": {
   "codemirror_mode": {
    "name": "ipython",
    "version": 3
   },
   "file_extension": ".py",
   "mimetype": "text/x-python",
   "name": "python",
   "nbconvert_exporter": "python",
   "pygments_lexer": "ipython3",
   "version": "3.9.19"
  }
 },
 "nbformat": 4,
 "nbformat_minor": 2
}
