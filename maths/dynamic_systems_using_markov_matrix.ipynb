{
 "cells": [
  {
   "cell_type": "code",
   "execution_count": 1,
   "metadata": {},
   "outputs": [],
   "source": [
    "import numpy as np"
   ]
  },
  {
   "cell_type": "markdown",
   "metadata": {},
   "source": [
    "**A markov matrix is a square matrix with only non-negative values and all values in each column adding up to 1**"
   ]
  },
  {
   "cell_type": "code",
   "execution_count": 2,
   "metadata": {},
   "outputs": [],
   "source": [
    "transition_matrix = np.array([\n",
    "    [0.3,0.4,0.2],\n",
    "    [0.5,0.4,0.3],\n",
    "    [0.2,0.2,0.5],\n",
    "    ]\n",
    ")\n",
    "\n",
    "initial_state_vector = np.array([0,0,1])"
   ]
  },
  {
   "cell_type": "code",
   "execution_count": 3,
   "metadata": {},
   "outputs": [],
   "source": [
    "X = np.dot(transition_matrix,initial_state_vector)"
   ]
  },
  {
   "cell_type": "code",
   "execution_count": 4,
   "metadata": {},
   "outputs": [
    {
     "data": {
      "text/plain": [
       "array([0.2, 0.3, 0.5])"
      ]
     },
     "execution_count": 4,
     "metadata": {},
     "output_type": "execute_result"
    }
   ],
   "source": [
    "X"
   ]
  },
  {
   "cell_type": "markdown",
   "metadata": {},
   "source": [
    "Repeating this infinite times makes the state vector approach equilibrium as it becomes an eigenvector with corresponding eigenvalue of 1"
   ]
  },
  {
   "cell_type": "code",
   "execution_count": 5,
   "metadata": {},
   "outputs": [
    {
     "name": "stdout",
     "output_type": "stream",
     "text": [
      "[0.28 0.37 0.35]\n",
      "[0.302 0.393 0.305]\n",
      "[0.3088 0.3997 0.2915]\n",
      "[0.31082 0.40173 0.28745]\n",
      "[0.311428 0.402337 0.286235]\n",
      "[0.3116102 0.4025193 0.2858705]\n",
      "[0.31166488 0.40257397 0.28576115]\n",
      "[0.31168128 0.40259037 0.28572834]\n",
      "[0.3116862  0.40259529 0.2857185 ]\n",
      "[0.31168768 0.40259677 0.28571555]\n",
      "[0.31168812 0.40259721 0.28571467]\n",
      "[0.31168825 0.40259735 0.2857144 ]\n",
      "[0.31168829 0.40259739 0.28571432]\n",
      "[0.31168831 0.4025974  0.2857143 ]\n",
      "[0.31168831 0.4025974  0.28571429]\n",
      "[0.31168831 0.4025974  0.28571429]\n",
      "[0.31168831 0.4025974  0.28571429]\n",
      "[0.31168831 0.4025974  0.28571429]\n",
      "[0.31168831 0.4025974  0.28571429]\n",
      "[0.31168831 0.4025974  0.28571429]\n"
     ]
    }
   ],
   "source": [
    "for _ in range(20):\n",
    "    X = np.dot(transition_matrix,X)\n",
    "    print(X)"
   ]
  },
  {
   "cell_type": "code",
   "execution_count": 6,
   "metadata": {},
   "outputs": [],
   "source": [
    "eigvals, eigvecs = np.linalg.eig(transition_matrix)"
   ]
  },
  {
   "cell_type": "code",
   "execution_count": 7,
   "metadata": {},
   "outputs": [],
   "source": [
    "vec = eigvecs[:,np.where(np.isclose(eigvals,1.0))].reshape(-1)\n",
    "vec = vec/np.sum(vec)"
   ]
  },
  {
   "cell_type": "code",
   "execution_count": 8,
   "metadata": {},
   "outputs": [
    {
     "data": {
      "text/plain": [
       "array([0.31168831, 0.4025974 , 0.28571429])"
      ]
     },
     "execution_count": 8,
     "metadata": {},
     "output_type": "execute_result"
    }
   ],
   "source": [
    "vec"
   ]
  }
 ],
 "metadata": {
  "kernelspec": {
   "display_name": "tf",
   "language": "python",
   "name": "python3"
  },
  "language_info": {
   "codemirror_mode": {
    "name": "ipython",
    "version": 3
   },
   "file_extension": ".py",
   "mimetype": "text/x-python",
   "name": "python",
   "nbconvert_exporter": "python",
   "pygments_lexer": "ipython3",
   "version": "3.9.19"
  }
 },
 "nbformat": 4,
 "nbformat_minor": 2
}
