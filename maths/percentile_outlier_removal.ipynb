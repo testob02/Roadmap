{
 "cells": [
  {
   "cell_type": "code",
   "execution_count": 25,
   "metadata": {},
   "outputs": [],
   "source": [
    "import pandas as pd"
   ]
  },
  {
   "cell_type": "code",
   "execution_count": 26,
   "metadata": {},
   "outputs": [],
   "source": [
    "df = pd.read_csv('nyc.csv')"
   ]
  },
  {
   "cell_type": "code",
   "execution_count": 27,
   "metadata": {},
   "outputs": [],
   "source": [
    "df['price_per_night'] = df['price'] / df['minimum_nights']"
   ]
  },
  {
   "cell_type": "code",
   "execution_count": 28,
   "metadata": {},
   "outputs": [],
   "source": [
    "Q1 = df['price_per_night'].quantile(.25)\n",
    "Q3 = df['price_per_night'].quantile(.75)\n",
    "IQR = Q3 - Q1\n"
   ]
  },
  {
   "cell_type": "code",
   "execution_count": 29,
   "metadata": {},
   "outputs": [],
   "source": [
    "lower_bound = max(df['price_per_night'].min(),Q1 - 1.5*IQR)\n",
    "higher_bound = min(df['price_per_night'].max(),Q3 + 1.5*IQR)"
   ]
  },
  {
   "cell_type": "code",
   "execution_count": 30,
   "metadata": {},
   "outputs": [],
   "source": [
    "no_outlier_df = df[(df['price_per_night'] >= lower_bound) & (df['price_per_night'] <= higher_bound)]"
   ]
  },
  {
   "cell_type": "code",
   "execution_count": 32,
   "metadata": {},
   "outputs": [
    {
     "data": {
      "text/plain": [
       "id                                48895\n",
       "name                              48879\n",
       "host_id                           48895\n",
       "host_name                         48874\n",
       "neighbourhood_group               48895\n",
       "neighbourhood                     48895\n",
       "latitude                          48895\n",
       "longitude                         48895\n",
       "room_type                         48895\n",
       "price                             48895\n",
       "minimum_nights                    48895\n",
       "number_of_reviews                 48895\n",
       "last_review                       38843\n",
       "reviews_per_month                 38843\n",
       "calculated_host_listings_count    48895\n",
       "availability_365                  48895\n",
       "price_per_night                   48895\n",
       "dtype: int64"
      ]
     },
     "execution_count": 32,
     "metadata": {},
     "output_type": "execute_result"
    }
   ],
   "source": [
    "df.count()"
   ]
  },
  {
   "cell_type": "code",
   "execution_count": 33,
   "metadata": {},
   "outputs": [
    {
     "data": {
      "text/plain": [
       "id                                45562\n",
       "name                              45548\n",
       "host_id                           45562\n",
       "host_name                         45543\n",
       "neighbourhood_group               45562\n",
       "neighbourhood                     45562\n",
       "latitude                          45562\n",
       "longitude                         45562\n",
       "room_type                         45562\n",
       "price                             45562\n",
       "minimum_nights                    45562\n",
       "number_of_reviews                 45562\n",
       "last_review                       36577\n",
       "reviews_per_month                 36577\n",
       "calculated_host_listings_count    45562\n",
       "availability_365                  45562\n",
       "price_per_night                   45562\n",
       "dtype: int64"
      ]
     },
     "execution_count": 33,
     "metadata": {},
     "output_type": "execute_result"
    }
   ],
   "source": [
    "no_outlier_df.count()"
   ]
  },
  {
   "cell_type": "code",
   "execution_count": null,
   "metadata": {},
   "outputs": [],
   "source": []
  }
 ],
 "metadata": {
  "kernelspec": {
   "display_name": "tf",
   "language": "python",
   "name": "python3"
  },
  "language_info": {
   "codemirror_mode": {
    "name": "ipython",
    "version": 3
   },
   "file_extension": ".py",
   "mimetype": "text/x-python",
   "name": "python",
   "nbconvert_exporter": "python",
   "pygments_lexer": "ipython3",
   "version": "3.9.19"
  }
 },
 "nbformat": 4,
 "nbformat_minor": 2
}
