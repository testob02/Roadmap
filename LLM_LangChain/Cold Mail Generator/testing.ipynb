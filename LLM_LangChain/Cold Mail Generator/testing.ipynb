{
 "cells": [
  {
   "cell_type": "code",
   "execution_count": 39,
   "metadata": {},
   "outputs": [],
   "source": [
    "from langchain_groq import ChatGroq\n",
    "from groq_api_key import key"
   ]
  },
  {
   "cell_type": "code",
   "execution_count": 40,
   "metadata": {},
   "outputs": [],
   "source": [
    "llm = ChatGroq(\n",
    "    model=\"llama-3.1-70b-versatile\",\n",
    "    api_key=key,\n",
    "    temperature=0\n",
    ")"
   ]
  },
  {
   "cell_type": "code",
   "execution_count": 41,
   "metadata": {},
   "outputs": [],
   "source": [
    "from langchain_community.document_loaders import WebBaseLoader"
   ]
  },
  {
   "cell_type": "code",
   "execution_count": 42,
   "metadata": {},
   "outputs": [
    {
     "name": "stdout",
     "output_type": "stream",
     "text": [
      "Apply for Director, Software Engineering\n",
      "\n",
      "Search JobsSkip navigationSearch JobsNIKE, INC. JOBSContract JobsJoin The Talent CommunityLife @ NikeOverviewBenefitsBrandsOverviewJordanConverseTeamsOverviewAdministrative SupportAdvanced InnovationAir Manufacturing InnovationAviationCommunicationsCustomer ServiceDesignDigitalFacilitiesFinance & AccountingGovernment & Public AffairsHuman ResourcesInsights & AnalyticsLegalManufacturing & EngineeringMarketingMerchandisingPlanningPrivacyProcurementProduct Creation, Development & ManagementRetail CorporateRetail StoresSalesSocial & Community ImpactSports MarketingStrategic PlanningSupply Chain, Distribution & LogisticsSustainabilityTechnologyLocationsOverviewNike WHQNike New York HQEHQ: Hilversum, The NetherlandsELC: Laakdal, BelgiumGreater China HQDiversity, Equity & InclusionOverviewMilitary InclusionDisability InclusionIndigenous InclusionInternshipsTechnologyDirector, Software EngineeringBeaverton, OregonBecome a Part of the NIKE, Inc. TeamNIKE, Inc. does more than outfit the world’s best athletes. It is a place to explore potential, obliterate boundaries and push out the edges of what can be. The company looks for people who can grow, think, dream and create. Its culture thrives by embracing diversity and rewarding imagination. The brand seeks achievers, leaders and visionaries. At NIKE, Inc. it’s about each person bringing skills and passion to a challenging and constantly evolving game.NIKE is a technology company. From our flagship website and five-star mobile apps to developing products, managing big data and providing leading edge engineering and systems support, our teams at NIKE Global Technology exist to revolutionize the future at the confluence of tech and sport. We invest and develop advances in technology and employ the most creative people in the world, and then give them the support to constantly innovate, iterate and serve consumers more directly and personally.  Our teams are innovative, diverse, multidisciplinary and collaborative, taking technology into the future and bringing the world with it.If you’re ready to innovate and lead, it’s time to join Nike’s Global Technology organization. From our flagship website and five-star mobile apps to developing products, managing big data, and providing leading edge engineering and systems support, our teams at NIKE Global Technology exist to revolutionize the future at the confluence of tech and sport. We invest and develop advances in technology and employ the most creative people in the world, and then give them the support to constantly innovate, iterate, and serve consumers more directly and personally. Our teams are innovative, diverse, multidisciplinary, and collaborative, taking technology into the future and bringing the world with it. WHO WE ARE LOOKING FOR We are looking for a Director of Software Engineering to lead the team that builds and develops technology for Nike’s future in direct partnership with engineering leaders across the enterprise. This role collaborates with Directors, Engineers, Architects, Product Managers, and Program Managers to create reusable, well-architected and highly scalable solutions to modernize Nike’s technology landscape.Key focus areas include foundational technology, consumer experiences, supply chain & planning technology, and analytics. The successful candidate is a seasoned Software Engineering Director with excellent technology leadership and cross-functional communication skills, with the ability to influence, drive, innovate, and challenge conventional thinking. WHAT YOU WILL DO Lead, mentor, and manage multiple engineering squads to deliver software that aligns to multi-year platform roadmaps, Global Technology standards, and modern industry trends Lead multiple squads to strategize and drive the technical analysis, evaluation, and modernization planning of existing costly, duplicative, and bespoke technology solutions; this will involve engaging, collaborating and partnering with the teams who build and maintain Nike's production systems and services   Define and lead the technical strategy, design, and engineering implementation of efficient, reusable, secure, and resilient technology solutions to replace existing deprecated software in direct support of Nike’s multi-year simplification and modernization journey Enable continuous transformational changes to accelerate Nike’s technical maturity innovation, experimentation, standards, best practices, and developer productivity, while inspiring a rich global engineering culture on par with best-in-class industry norms  In addition, you will foster cross-team collaboration across multiple software engineering squads by growing and supporting the culture of communities of practices (COPs) for specialized multi-disciplinary technical areas, including Observability, API, Data, AI/ML, Kubernetes, DevOps, Cloud, Pipeline, Disaster Recovery, OpenSource, etc.     WHO YOU WILL WORK WITH This role reports into the Tech Modernization Organization and will connect across all levels and functions of Global Technology at Nike to deliver modernization of technology solutions and platforms at scale. This role is critical to accelerating Nike’s journey to simplify and modernize its technology landscape to deliver cost-savings, better business agility, and faster time-to-market. This role will involve partnering closely with functions that support foundational technologies and consumer experiences across Nike’s public cloud infrastructure, digital, retail, wholesale, and data centers globally. WHAT YOU BRING Bachelor's degree in Computer Science, Engineering, Information Systems, or similar field or any relevant combination of professional experience, education, and training At least 12 years of overall experience as a technology leader with at least 7 of these years in a people management role building and leading effective, innovative teams in complex transformations with strong customer success mindsetAt least 7 years as an individual contributor developing custom software and distributed platforms using common languages, cloud platforms, runtimes, and developer toolsets across broad technology stacksAt least 7 years as an individual contributor developing highly available, highly scalable platforms using common languages and technologies including but not limited to Java, Node.js, Golang, React, or JavaScriptAt least 7 years of professional experience with Cloud Native technologies on platforms like AWS or other major cloud providers; proven experience in tackling cloud challenges around clustering, end-to-end service design, resiliency, reliability, streaming, high availability / disaster recovery (HA/DR) and complex distributed systems At least 4+ years of professional experience with container runtimes, such as Kubernetes, deployment tools like Terraform, and configuration management solutions like Ansible Deep foundational knowledge of software engineering practices, particularly on distributed systems and cloud native architectures “Soft” Skills include: Excellent verbal and written communication skills, feeling as comfortable addressing executives as the software engineering team High emotional intelligence with the ability to bring diverse groups together to tackle common goals while removing blockers with vigilanceHighly passionate about delivery, being comfortable with both providing technical direction as well as being a contributing member of the team Thinks long-term and holistically, while taking ownership of ambiguous problems to drive results with a strong emphasis on the productivity of the teamWe are committed to fostering a diverse and inclusive environment for all employees and job applicants. We offer a number of accommodations to complete our interview process including screen readers, sign language interpreters, accessible and single location for in-person interviews, closed captioning, and other reasonable modifications as needed. If you discover, as you navigate our application process, that you need assistance or an accommodation due to a disability, please complete the Candidate Accommodation Request Form.NIKE, Inc. is a growth company that looks for team members to grow with it. Nike offers a generous total rewards package, casual work environment, a diverse and inclusive culture, and an electric atmosphere for professional development. No matter the location, or the role, every Nike employee shares one galvanizing mission: To bring inspiration and innovation to every athlete* in the world.NIKE, Inc. is committed to employing a diverse workforce. Qualified applicants will receive consideration without regard to race, color, religion, sex, national origin, age, sexual orientation, gender identity, gender expression, veteran status, or disability.How We HireAt NIKE, Inc. we promise to provide a premium, inclusive, compelling and authentic candidate experience. Delivering on this promise means we allow you to be at your best — and to do that, you need to understand how the hiring process works. Transparency is key.\n",
      "\n",
      "* This overview explains our hiring process for corporate roles. Note there may be different hiring steps involved for non-corporate roles.Start nowBenefitsWhether it’s transportation or financial health, we continually invest in our employees to help them achieve greatness — inside and outside of work. All who work here should be able to realize their full potential.Employee Assistance ProgramEmployee Stock Purchase Plan (ESPP)HolidaysMedical PlanPaid Time Off (PTO)Product DiscountsSabbaticalsLearn moreGIFT CARDSPROMOTIONSFIND A STORESIGN UP FOR EMAILBECOME A MEMBERNIKE JOURNALSEND US FEEDBACKGET HELPGET HELPOrder StatusShipping and DeliveryReturnsPayment OptionsGift Cards BalanceContact UsABOUT NIKEABOUT NIKENewsCareersInvestorsPurposeSustainabilityUnited States© 2024 Nike, Inc. All Rights ReservedGuidesNike AdaptNike Air MaxNike FlyleatherNike ReactSpace HippieNike AirNike FlyEaseNike Free Nike VaporflyNike Air Force 1 Nike FlyknitNike JoyrideNike ZoomXTerms of SaleTerms of UseNike Privacy PolicyYour Privacy ChoicesCA Supply Chain Act\n"
     ]
    }
   ],
   "source": [
    "loader = WebBaseLoader('https://jobs.nike.com/job/R-44279?from=job%20search%20funnel')\n",
    "page_data = loader.load().pop().page_content\n",
    "print(page_data)"
   ]
  },
  {
   "cell_type": "code",
   "execution_count": 43,
   "metadata": {},
   "outputs": [],
   "source": [
    "from langchain_core.prompts import PromptTemplate"
   ]
  },
  {
   "cell_type": "code",
   "execution_count": 44,
   "metadata": {},
   "outputs": [],
   "source": [
    "prompt_extract = PromptTemplate.from_template(\n",
    "    \"\"\"\n",
    "    ### SCRAPED TEXT FROM WEBSITE:\n",
    "    {page_data}\n",
    "    ### INSTRUCTION:\n",
    "    The scraped text is from the career's page of a website. Your job is to extract the job postings and return them in JSON format\n",
    "    containing the following keys: 'role', 'experience', 'skills' and 'description'\n",
    "    Only return the valid JSON\n",
    "    VALID JSON NO PREAMBLE\n",
    "    JUST THE JSON\n",
    "    DONT ADD ```\n",
    "    \"\"\"\n",
    ")"
   ]
  },
  {
   "cell_type": "code",
   "execution_count": 45,
   "metadata": {},
   "outputs": [],
   "source": [
    "chain_extract = prompt_extract | llm\n",
    "response = chain_extract.invoke(input={'page_data':page_data})"
   ]
  },
  {
   "cell_type": "code",
   "execution_count": 46,
   "metadata": {},
   "outputs": [
    {
     "name": "stdout",
     "output_type": "stream",
     "text": [
      "[\n",
      "  {\n",
      "    \"role\": \"Director, Software Engineering\",\n",
      "    \"experience\": \"At least 12 years of overall experience as a technology leader with at least 7 of these years in a people management role building and leading effective, innovative teams in complex transformations with strong customer success mindset\",\n",
      "    \"skills\": [\n",
      "      \"Bachelor's degree in Computer Science, Engineering, Information Systems, or similar field\",\n",
      "      \"At least 7 years as an individual contributor developing custom software and distributed platforms using common languages, cloud platforms, runtimes, and developer toolsets across broad technology stacks\",\n",
      "      \"At least 7 years as an individual contributor developing highly available, highly scalable platforms using common languages and technologies including but not limited to Java, Node.js, Golang, React, or JavaScript\",\n",
      "      \"At least 7 years of professional experience with Cloud Native technologies on platforms like AWS or other major cloud providers\",\n",
      "      \"At least 4+ years of professional experience with container runtimes, such as Kubernetes, deployment tools like Terraform, and configuration management solutions like Ansible\",\n",
      "      \"Deep foundational knowledge of software engineering practices, particularly on distributed systems and cloud native architectures\",\n",
      "      \"Excellent verbal and written communication skills\",\n",
      "      \"High emotional intelligence with the ability to bring diverse groups together to tackle common goals\",\n",
      "      \"Highly passionate about delivery, being comfortable with both providing technical direction as well as being a contributing member of the team\"\n",
      "    ],\n",
      "    \"description\": \"Lead, mentor, and manage multiple engineering squads to deliver software that aligns to multi-year platform roadmaps, Global Technology standards, and modern industry trends. Define and lead the technical strategy, design, and engineering implementation of efficient, reusable, secure, and resilient technology solutions to replace existing deprecated software in direct support of Nike’s multi-year simplification and modernization journey.\"\n",
      "  }\n",
      "]\n"
     ]
    }
   ],
   "source": [
    "print(response.content)"
   ]
  },
  {
   "cell_type": "code",
   "execution_count": 47,
   "metadata": {},
   "outputs": [],
   "source": [
    "prompt_email = PromptTemplate.from_template(\n",
    "    \"\"\" \n",
    "    JOB DESCRIPTION\n",
    "    {job_description}\n",
    "\n",
    "    ### INSTRUCTION:\n",
    "    You are Teslim, a business development executive at TestDev Inc. TestDev Inc. is an AI & SOftware company\n",
    "    that brings about the seamless integration of business processes through automated tools.\n",
    "    Over our experience, we have empowered numerous enterprises with tailored solutions such as process optimization,\n",
    "    cost reduction, and heightened overall eficiency.\n",
    "    Your job is to write a cold email to the client regarding the job mentioned above and talk about fulfilling their needs.\n",
    "    Also add the most relevant ones from the following links to showcase TestDev Inc. portfolio {link_list}.\n",
    "    Remember, you are Teslim, CEO of TestDev Inc.\n",
    "    Do not provide a preamble.\n",
    "    ### EMAIL (NO PREAMBLE)\n",
    "    \"\"\"\n",
    ")"
   ]
  },
  {
   "cell_type": "code",
   "execution_count": 57,
   "metadata": {},
   "outputs": [],
   "source": [
    "chain_email = prompt_email | llm\n",
    "response = chain_email.invoke(input={\n",
    "    'job_description':str(job),\n",
    "    'link_list':links\n",
    "})"
   ]
  },
  {
   "cell_type": "code",
   "execution_count": 58,
   "metadata": {},
   "outputs": [
    {
     "name": "stdout",
     "output_type": "stream",
     "text": [
      "Subject: Expert Software Engineering Solutions for Nike's Multi-Year Simplification and Modernization Journey\n",
      "\n",
      "Dear Hiring Manager,\n",
      "\n",
      "I came across the job description for the Director, Software Engineering role at Nike, and I am excited to introduce TestDev Inc. as a potential partner to help fulfill your software engineering needs. With over a decade of experience in empowering enterprises with tailored solutions, we are confident that our expertise aligns with Nike's multi-year platform roadmaps and modern industry trends.\n",
      "\n",
      "Our team of experts has a deep understanding of software engineering practices, particularly in distributed systems and cloud-native architectures. We have a proven track record of delivering efficient, reusable, secure, and resilient technology solutions that meet the highest standards of quality and scalability.\n",
      "\n",
      "Our portfolio showcases our expertise in various technologies, including:\n",
      "\n",
      "* Cloud Native technologies on platforms like AWS (https://example.com/devops-portfolio)\n",
      "* Container runtimes like Kubernetes and deployment tools like Terraform (https://example.com/devops-portfolio)\n",
      "* Full-stack JavaScript development using React and Node.js (https://example.com/full-stack-js-portfolio)\n",
      "* Machine learning and Python development (https://example.com/ml-python-portfolio)\n",
      "\n",
      "We understand the importance of having a strong customer success mindset and a people management approach that brings diverse groups together to tackle common goals. Our team is passionate about delivery and is comfortable with both providing technical direction and being a contributing member of the team.\n",
      "\n",
      "At TestDev Inc., we are committed to helping Nike achieve its simplification and modernization goals through our expertise in software engineering. We would be delighted to discuss how our services can support your organization's needs.\n",
      "\n",
      "Please feel free to contact me directly to schedule a call to explore how we can help.\n",
      "\n",
      "Best regards,\n",
      "\n",
      "Teslim\n",
      "CEO, TestDev Inc.\n"
     ]
    }
   ],
   "source": [
    "print(response.content)"
   ]
  },
  {
   "cell_type": "code",
   "execution_count": 48,
   "metadata": {},
   "outputs": [],
   "source": [
    "from langchain_core.output_parsers import JsonOutputParser\n",
    "\n",
    "json_parser = JsonOutputParser()\n",
    "json_response = json_parser.parse(response.content)"
   ]
  },
  {
   "cell_type": "code",
   "execution_count": 49,
   "metadata": {},
   "outputs": [],
   "source": [
    "import pandas as pd\n",
    "\n",
    "cv = pd.read_csv('my_portfolio.csv')"
   ]
  },
  {
   "cell_type": "code",
   "execution_count": 50,
   "metadata": {},
   "outputs": [],
   "source": [
    "import uuid\n",
    "import chromadb\n",
    "\n",
    "client = chromadb.PersistentClient('vectorstore')\n",
    "collection = client.get_or_create_collection(name='portfolio')\n",
    "\n",
    "if not collection.count():\n",
    "    for _, row in cv.iterrows():\n",
    "        collection.add(\n",
    "            documents=row['Techstack'],\n",
    "            metadatas={\n",
    "                \"links\":row['Links']\n",
    "            },\n",
    "            ids=[str(uuid.uuid4())]\n",
    "        )"
   ]
  },
  {
   "cell_type": "code",
   "execution_count": 51,
   "metadata": {},
   "outputs": [],
   "source": [
    "links = collection.query(\n",
    "    query_texts=['Experience in Python', 'Expertise in React'],\n",
    "    n_results=2\n",
    ").get('metadatas')"
   ]
  },
  {
   "cell_type": "code",
   "execution_count": 52,
   "metadata": {},
   "outputs": [],
   "source": [
    "job = json_response[0]\n",
    "skills = job['skills']"
   ]
  },
  {
   "cell_type": "code",
   "execution_count": 53,
   "metadata": {},
   "outputs": [],
   "source": [
    "links = collection.query(\n",
    "    query_texts=skills,\n",
    "    n_results=2\n",
    ").get('metadatas')"
   ]
  },
  {
   "cell_type": "code",
   "execution_count": 54,
   "metadata": {},
   "outputs": [
    {
     "data": {
      "text/plain": [
       "[[{'links': 'https://example.com/ml-python-portfolio'},\n",
       "  {'links': 'https://example.com/python-portfolio'}],\n",
       " [{'links': 'https://example.com/xamarin-portfolio'},\n",
       "  {'links': 'https://example.com/devops-portfolio'}],\n",
       " [{'links': 'https://example.com/react-portfolio'},\n",
       "  {'links': 'https://example.com/full-stack-js-portfolio'}],\n",
       " [{'links': 'https://example.com/xamarin-portfolio'},\n",
       "  {'links': 'https://example.com/ios-ar-portfolio'}],\n",
       " [{'links': 'https://example.com/devops-portfolio'},\n",
       "  {'links': 'https://example.com/kotlin-backend-portfolio'}],\n",
       " [{'links': 'https://example.com/xamarin-portfolio'},\n",
       "  {'links': 'https://example.com/ios-ar-portfolio'}],\n",
       " [{'links': 'https://example.com/ml-python-portfolio'},\n",
       "  {'links': 'https://example.com/python-portfolio'}],\n",
       " [{'links': 'https://example.com/ml-python-portfolio'},\n",
       "  {'links': 'https://example.com/wordpress-portfolio'}],\n",
       " [{'links': 'https://example.com/full-stack-js-portfolio'},\n",
       "  {'links': 'https://example.com/devops-portfolio'}]]"
      ]
     },
     "execution_count": 54,
     "metadata": {},
     "output_type": "execute_result"
    }
   ],
   "source": [
    "links"
   ]
  },
  {
   "cell_type": "code",
   "execution_count": 55,
   "metadata": {},
   "outputs": [
    {
     "data": {
      "text/plain": [
       "[\"Bachelor's degree in Computer Science, Engineering, Information Systems, or similar field\",\n",
       " 'At least 7 years as an individual contributor developing custom software and distributed platforms using common languages, cloud platforms, runtimes, and developer toolsets across broad technology stacks',\n",
       " 'At least 7 years as an individual contributor developing highly available, highly scalable platforms using common languages and technologies including but not limited to Java, Node.js, Golang, React, or JavaScript',\n",
       " 'At least 7 years of professional experience with Cloud Native technologies on platforms like AWS or other major cloud providers',\n",
       " 'At least 4+ years of professional experience with container runtimes, such as Kubernetes, deployment tools like Terraform, and configuration management solutions like Ansible',\n",
       " 'Deep foundational knowledge of software engineering practices, particularly on distributed systems and cloud native architectures',\n",
       " 'Excellent verbal and written communication skills',\n",
       " 'High emotional intelligence with the ability to bring diverse groups together to tackle common goals',\n",
       " 'Highly passionate about delivery, being comfortable with both providing technical direction as well as being a contributing member of the team']"
      ]
     },
     "execution_count": 55,
     "metadata": {},
     "output_type": "execute_result"
    }
   ],
   "source": [
    "skills"
   ]
  },
  {
   "cell_type": "code",
   "execution_count": null,
   "metadata": {},
   "outputs": [],
   "source": []
  }
 ],
 "metadata": {
  "kernelspec": {
   "display_name": "llm",
   "language": "python",
   "name": "python3"
  },
  "language_info": {
   "codemirror_mode": {
    "name": "ipython",
    "version": 3
   },
   "file_extension": ".py",
   "mimetype": "text/x-python",
   "name": "python",
   "nbconvert_exporter": "python",
   "pygments_lexer": "ipython3",
   "version": "3.12.7"
  }
 },
 "nbformat": 4,
 "nbformat_minor": 2
}
