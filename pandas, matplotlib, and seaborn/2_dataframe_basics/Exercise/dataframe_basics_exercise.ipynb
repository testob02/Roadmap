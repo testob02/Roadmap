{
 "cells": [
  {
   "cell_type": "markdown",
   "id": "197b3173",
   "metadata": {},
   "source": [
    "## <font color=\"maroon\"><h4 align=\"center\"> DataFrame Basics (Exercise)</font>"
   ]
  },
  {
   "cell_type": "markdown",
   "id": "9e7d4ea2",
   "metadata": {},
   "source": [
    "**Peter Pandey** arrived in Bangalore(a city in India) with the aim of finding a suitable house that fits his budget and location preferences. He has some queries related to house selection and is seeking solutions.\n",
    "\n",
    "Help Peter Pandey to answer his questions and you are provided with a sample dataset of house information that contain area_type, availability, location, size, society, total_sqft, bath, balcony, and price."
   ]
  },
  {
   "cell_type": "code",
   "execution_count": 1,
   "id": "0936efe6",
   "metadata": {},
   "outputs": [],
   "source": [
    "import pandas as pd"
   ]
  },
  {
   "cell_type": "markdown",
   "id": "ab6a99c0",
   "metadata": {},
   "source": [
    "### <font color=\"purple\">**Question1**</font>\n",
    "- Read the csv file 'bengaluru_house_prices.csv' and store it in variable 'df'.\n",
    "- print the number of rows and columns in it\n",
    "- print the Top 5 rows"
   ]
  },
  {
   "cell_type": "code",
   "execution_count": 7,
   "id": "121dfe5e",
   "metadata": {},
   "outputs": [
    {
     "name": "stdout",
     "output_type": "stream",
     "text": [
      "(50, 9)\n"
     ]
    },
    {
     "data": {
      "text/html": [
       "<div>\n",
       "<style scoped>\n",
       "    .dataframe tbody tr th:only-of-type {\n",
       "        vertical-align: middle;\n",
       "    }\n",
       "\n",
       "    .dataframe tbody tr th {\n",
       "        vertical-align: top;\n",
       "    }\n",
       "\n",
       "    .dataframe thead th {\n",
       "        text-align: right;\n",
       "    }\n",
       "</style>\n",
       "<table border=\"1\" class=\"dataframe\">\n",
       "  <thead>\n",
       "    <tr style=\"text-align: right;\">\n",
       "      <th></th>\n",
       "      <th>area_type</th>\n",
       "      <th>availability</th>\n",
       "      <th>location</th>\n",
       "      <th>size</th>\n",
       "      <th>society</th>\n",
       "      <th>total_sqft</th>\n",
       "      <th>bath</th>\n",
       "      <th>balcony</th>\n",
       "      <th>price</th>\n",
       "    </tr>\n",
       "  </thead>\n",
       "  <tbody>\n",
       "    <tr>\n",
       "      <th>0</th>\n",
       "      <td>Super built-up  Area</td>\n",
       "      <td>Ready To Move</td>\n",
       "      <td>Ambedkar Nagar</td>\n",
       "      <td>3 BHK</td>\n",
       "      <td>NaN</td>\n",
       "      <td>1920</td>\n",
       "      <td>4.0</td>\n",
       "      <td>2.0</td>\n",
       "      <td>121.0</td>\n",
       "    </tr>\n",
       "    <tr>\n",
       "      <th>1</th>\n",
       "      <td>Plot  Area</td>\n",
       "      <td>18-Aug</td>\n",
       "      <td>Hulimavu</td>\n",
       "      <td>4 Bedroom</td>\n",
       "      <td>ValleCi</td>\n",
       "      <td>1500</td>\n",
       "      <td>4.0</td>\n",
       "      <td>3.0</td>\n",
       "      <td>192.0</td>\n",
       "    </tr>\n",
       "    <tr>\n",
       "      <th>2</th>\n",
       "      <td>Super built-up  Area</td>\n",
       "      <td>Ready To Move</td>\n",
       "      <td>Kalkere</td>\n",
       "      <td>2 BHK</td>\n",
       "      <td>Sothin</td>\n",
       "      <td>925</td>\n",
       "      <td>2.0</td>\n",
       "      <td>1.0</td>\n",
       "      <td>55.0</td>\n",
       "    </tr>\n",
       "    <tr>\n",
       "      <th>3</th>\n",
       "      <td>Plot  Area</td>\n",
       "      <td>Ready To Move</td>\n",
       "      <td>Kodigehalli</td>\n",
       "      <td>2 Bedroom</td>\n",
       "      <td>NaN</td>\n",
       "      <td>500</td>\n",
       "      <td>1.0</td>\n",
       "      <td>0.0</td>\n",
       "      <td>55.0</td>\n",
       "    </tr>\n",
       "    <tr>\n",
       "      <th>4</th>\n",
       "      <td>Super built-up  Area</td>\n",
       "      <td>Ready To Move</td>\n",
       "      <td>Harlur</td>\n",
       "      <td>2 BHK</td>\n",
       "      <td>Prncyrn</td>\n",
       "      <td>1174</td>\n",
       "      <td>2.0</td>\n",
       "      <td>1.0</td>\n",
       "      <td>74.0</td>\n",
       "    </tr>\n",
       "  </tbody>\n",
       "</table>\n",
       "</div>"
      ],
      "text/plain": [
       "              area_type   availability        location       size  society  \\\n",
       "0  Super built-up  Area  Ready To Move  Ambedkar Nagar      3 BHK      NaN   \n",
       "1            Plot  Area         18-Aug        Hulimavu  4 Bedroom  ValleCi   \n",
       "2  Super built-up  Area  Ready To Move         Kalkere      2 BHK  Sothin    \n",
       "3            Plot  Area  Ready To Move     Kodigehalli  2 Bedroom      NaN   \n",
       "4  Super built-up  Area  Ready To Move          Harlur      2 BHK  Prncyrn   \n",
       "\n",
       "   total_sqft  bath  balcony  price  \n",
       "0        1920   4.0      2.0  121.0  \n",
       "1        1500   4.0      3.0  192.0  \n",
       "2         925   2.0      1.0   55.0  \n",
       "3         500   1.0      0.0   55.0  \n",
       "4        1174   2.0      1.0   74.0  "
      ]
     },
     "execution_count": 7,
     "metadata": {},
     "output_type": "execute_result"
    }
   ],
   "source": [
    "#read the csv file\n",
    "df = pd.read_csv('bengaluru_house_prices.csv')\n",
    "\n",
    "#show the number of rows and columns in dataframe 'df'\n",
    "print(df.shape)\n",
    "\n",
    "#show Top5 rows\n",
    "df.head()\n"
   ]
  },
  {
   "cell_type": "markdown",
   "id": "a5993728",
   "metadata": {},
   "source": [
    "### <font color=\"purple\">**Question2**</font>\n",
    "- show the unique categories present in **'area_type'** and **'size'** columns"
   ]
  },
  {
   "cell_type": "code",
   "execution_count": 8,
   "id": "1da5d539",
   "metadata": {},
   "outputs": [
    {
     "data": {
      "text/plain": [
       "array(['Super built-up  Area', 'Plot  Area', 'Built-up  Area',\n",
       "       'Carpet  Area'], dtype=object)"
      ]
     },
     "execution_count": 8,
     "metadata": {},
     "output_type": "execute_result"
    }
   ],
   "source": [
    "#unique values in 'area_type' column\n",
    "df['area_type'].unique()"
   ]
  },
  {
   "cell_type": "code",
   "execution_count": 9,
   "id": "0b128e07",
   "metadata": {},
   "outputs": [
    {
     "data": {
      "text/plain": [
       "array(['3 BHK', '4 Bedroom', '2 BHK', '2 Bedroom', '1 BHK', '5 BHK',\n",
       "       '3 Bedroom', '5 Bedroom', '1 Bedroom'], dtype=object)"
      ]
     },
     "execution_count": 9,
     "metadata": {},
     "output_type": "execute_result"
    }
   ],
   "source": [
    "#unique values in 'size' column\n",
    "df['size'].unique()"
   ]
  },
  {
   "cell_type": "markdown",
   "id": "ca57bbee",
   "metadata": {},
   "source": [
    "### <font color=\"purple\">**Question3**</font>\n",
    "- Filter data which have **'2 BHK'** house size and area_type of **'Super built-up  Area'**\n",
    "- Also get the count of such rows"
   ]
  },
  {
   "cell_type": "code",
   "execution_count": 36,
   "id": "cf8a6f55",
   "metadata": {},
   "outputs": [],
   "source": [
    "#filter the data\n",
    "df_filtered = df[(df['area_type']=='Super built-up  Area') & (df['size']=='2 BHK')]"
   ]
  },
  {
   "cell_type": "code",
   "execution_count": 42,
   "id": "63dff008",
   "metadata": {},
   "outputs": [
    {
     "data": {
      "text/plain": [
       "20"
      ]
     },
     "execution_count": 42,
     "metadata": {},
     "output_type": "execute_result"
    }
   ],
   "source": [
    "#show the number of rows for the filtered data\n",
    "df_filtered.shape[0]"
   ]
  },
  {
   "cell_type": "markdown",
   "id": "5fb0689d",
   "metadata": {},
   "source": [
    "### <font color=\"purple\">**Question4**</font>\n",
    "- Add a new column **'price_category'** which contain a category based on the price of house.\n",
    "- If price of house is less than 80, **\"Affordable\"**, otherwise **\"High Cost\"**"
   ]
  },
  {
   "cell_type": "code",
   "execution_count": 49,
   "id": "75cc7c4d",
   "metadata": {},
   "outputs": [],
   "source": [
    "#Add the column 'price_category'\n",
    "df['price_category'] = df['price'].apply(lambda x: \"Affordable\" if x < 80 else \"High Cost\")"
   ]
  },
  {
   "cell_type": "code",
   "execution_count": 1,
   "id": "318bcf31",
   "metadata": {},
   "outputs": [
    {
     "ename": "NameError",
     "evalue": "name 'df' is not defined",
     "output_type": "error",
     "traceback": [
      "\u001b[1;31m---------------------------------------------------------------------------\u001b[0m",
      "\u001b[1;31mNameError\u001b[0m                                 Traceback (most recent call last)",
      "Cell \u001b[1;32mIn[1], line 2\u001b[0m\n\u001b[0;32m      1\u001b[0m \u001b[38;5;66;03m#show the updated dataframe: top5 rows\u001b[39;00m\n\u001b[1;32m----> 2\u001b[0m \u001b[43mdf\u001b[49m\u001b[38;5;241m.\u001b[39mhead()\n",
      "\u001b[1;31mNameError\u001b[0m: name 'df' is not defined"
     ]
    }
   ],
   "source": [
    "#show the updated dataframe: top5 rows\n",
    "df.head()"
   ]
  },
  {
   "cell_type": "markdown",
   "id": "5ec4cf60",
   "metadata": {},
   "source": [
    "### <font color=\"purple\">**Question5**</font>\n",
    "\n",
    "- Get all the rows that has prices greater than **mean/average** price of all houses\n"
   ]
  },
  {
   "cell_type": "code",
   "execution_count": 54,
   "id": "ec7df48e",
   "metadata": {},
   "outputs": [
    {
     "data": {
      "text/html": [
       "<div>\n",
       "<style scoped>\n",
       "    .dataframe tbody tr th:only-of-type {\n",
       "        vertical-align: middle;\n",
       "    }\n",
       "\n",
       "    .dataframe tbody tr th {\n",
       "        vertical-align: top;\n",
       "    }\n",
       "\n",
       "    .dataframe thead th {\n",
       "        text-align: right;\n",
       "    }\n",
       "</style>\n",
       "<table border=\"1\" class=\"dataframe\">\n",
       "  <thead>\n",
       "    <tr style=\"text-align: right;\">\n",
       "      <th></th>\n",
       "      <th>area_type</th>\n",
       "      <th>availability</th>\n",
       "      <th>location</th>\n",
       "      <th>size</th>\n",
       "      <th>society</th>\n",
       "      <th>total_sqft</th>\n",
       "      <th>bath</th>\n",
       "      <th>balcony</th>\n",
       "      <th>price</th>\n",
       "      <th>price_category</th>\n",
       "    </tr>\n",
       "  </thead>\n",
       "  <tbody>\n",
       "    <tr>\n",
       "      <th>0</th>\n",
       "      <td>Super built-up  Area</td>\n",
       "      <td>Ready To Move</td>\n",
       "      <td>Ambedkar Nagar</td>\n",
       "      <td>3 BHK</td>\n",
       "      <td>NaN</td>\n",
       "      <td>1920</td>\n",
       "      <td>4.0</td>\n",
       "      <td>2.0</td>\n",
       "      <td>121.0</td>\n",
       "      <td>High Cost</td>\n",
       "    </tr>\n",
       "    <tr>\n",
       "      <th>1</th>\n",
       "      <td>Plot  Area</td>\n",
       "      <td>18-Aug</td>\n",
       "      <td>Hulimavu</td>\n",
       "      <td>4 Bedroom</td>\n",
       "      <td>ValleCi</td>\n",
       "      <td>1500</td>\n",
       "      <td>4.0</td>\n",
       "      <td>3.0</td>\n",
       "      <td>192.0</td>\n",
       "      <td>High Cost</td>\n",
       "    </tr>\n",
       "    <tr>\n",
       "      <th>9</th>\n",
       "      <td>Plot  Area</td>\n",
       "      <td>Ready To Move</td>\n",
       "      <td>Whitefield</td>\n",
       "      <td>4 Bedroom</td>\n",
       "      <td>Adowslm</td>\n",
       "      <td>3100</td>\n",
       "      <td>4.0</td>\n",
       "      <td>2.0</td>\n",
       "      <td>350.0</td>\n",
       "      <td>High Cost</td>\n",
       "    </tr>\n",
       "    <tr>\n",
       "      <th>16</th>\n",
       "      <td>Super built-up  Area</td>\n",
       "      <td>18-Dec</td>\n",
       "      <td>Hebbal</td>\n",
       "      <td>3 BHK</td>\n",
       "      <td>Mahosya</td>\n",
       "      <td>1920</td>\n",
       "      <td>3.0</td>\n",
       "      <td>2.0</td>\n",
       "      <td>134.0</td>\n",
       "      <td>High Cost</td>\n",
       "    </tr>\n",
       "    <tr>\n",
       "      <th>18</th>\n",
       "      <td>Built-up  Area</td>\n",
       "      <td>Ready To Move</td>\n",
       "      <td>Rayasandra</td>\n",
       "      <td>5 BHK</td>\n",
       "      <td>NaN</td>\n",
       "      <td>3600</td>\n",
       "      <td>5.0</td>\n",
       "      <td>3.0</td>\n",
       "      <td>145.0</td>\n",
       "      <td>High Cost</td>\n",
       "    </tr>\n",
       "    <tr>\n",
       "      <th>20</th>\n",
       "      <td>Super built-up  Area</td>\n",
       "      <td>Ready To Move</td>\n",
       "      <td>HRBR Layout</td>\n",
       "      <td>3 BHK</td>\n",
       "      <td>VDenaWa</td>\n",
       "      <td>2800</td>\n",
       "      <td>3.0</td>\n",
       "      <td>2.0</td>\n",
       "      <td>250.0</td>\n",
       "      <td>High Cost</td>\n",
       "    </tr>\n",
       "    <tr>\n",
       "      <th>26</th>\n",
       "      <td>Super built-up  Area</td>\n",
       "      <td>Ready To Move</td>\n",
       "      <td>Jakkur</td>\n",
       "      <td>3 BHK</td>\n",
       "      <td>BrdgeNo</td>\n",
       "      <td>1710</td>\n",
       "      <td>3.0</td>\n",
       "      <td>2.0</td>\n",
       "      <td>110.0</td>\n",
       "      <td>High Cost</td>\n",
       "    </tr>\n",
       "    <tr>\n",
       "      <th>27</th>\n",
       "      <td>Carpet  Area</td>\n",
       "      <td>Ready To Move</td>\n",
       "      <td>Maruthi Sevanagar</td>\n",
       "      <td>4 Bedroom</td>\n",
       "      <td>NaN</td>\n",
       "      <td>2100</td>\n",
       "      <td>3.0</td>\n",
       "      <td>0.0</td>\n",
       "      <td>210.0</td>\n",
       "      <td>High Cost</td>\n",
       "    </tr>\n",
       "    <tr>\n",
       "      <th>31</th>\n",
       "      <td>Super built-up  Area</td>\n",
       "      <td>Ready To Move</td>\n",
       "      <td>Tumkur Road</td>\n",
       "      <td>3 BHK</td>\n",
       "      <td>Sahtsva</td>\n",
       "      <td>1354</td>\n",
       "      <td>3.0</td>\n",
       "      <td>1.0</td>\n",
       "      <td>90.0</td>\n",
       "      <td>High Cost</td>\n",
       "    </tr>\n",
       "    <tr>\n",
       "      <th>40</th>\n",
       "      <td>Plot  Area</td>\n",
       "      <td>Ready To Move</td>\n",
       "      <td>Karuna Nagar</td>\n",
       "      <td>3 Bedroom</td>\n",
       "      <td>CoinoCu</td>\n",
       "      <td>2500</td>\n",
       "      <td>3.0</td>\n",
       "      <td>2.0</td>\n",
       "      <td>190.0</td>\n",
       "      <td>High Cost</td>\n",
       "    </tr>\n",
       "    <tr>\n",
       "      <th>43</th>\n",
       "      <td>Built-up  Area</td>\n",
       "      <td>Ready To Move</td>\n",
       "      <td>Vishwapriya Layout</td>\n",
       "      <td>5 Bedroom</td>\n",
       "      <td>NaN</td>\n",
       "      <td>2800</td>\n",
       "      <td>5.0</td>\n",
       "      <td>3.0</td>\n",
       "      <td>130.0</td>\n",
       "      <td>High Cost</td>\n",
       "    </tr>\n",
       "    <tr>\n",
       "      <th>45</th>\n",
       "      <td>Super built-up  Area</td>\n",
       "      <td>Ready To Move</td>\n",
       "      <td>Basavangudi</td>\n",
       "      <td>2 BHK</td>\n",
       "      <td>NaN</td>\n",
       "      <td>1200</td>\n",
       "      <td>2.0</td>\n",
       "      <td>3.0</td>\n",
       "      <td>120.0</td>\n",
       "      <td>High Cost</td>\n",
       "    </tr>\n",
       "  </tbody>\n",
       "</table>\n",
       "</div>"
      ],
      "text/plain": [
       "               area_type   availability            location       size  \\\n",
       "0   Super built-up  Area  Ready To Move      Ambedkar Nagar      3 BHK   \n",
       "1             Plot  Area         18-Aug            Hulimavu  4 Bedroom   \n",
       "9             Plot  Area  Ready To Move          Whitefield  4 Bedroom   \n",
       "16  Super built-up  Area         18-Dec              Hebbal      3 BHK   \n",
       "18        Built-up  Area  Ready To Move          Rayasandra      5 BHK   \n",
       "20  Super built-up  Area  Ready To Move         HRBR Layout      3 BHK   \n",
       "26  Super built-up  Area  Ready To Move              Jakkur      3 BHK   \n",
       "27          Carpet  Area  Ready To Move   Maruthi Sevanagar  4 Bedroom   \n",
       "31  Super built-up  Area  Ready To Move         Tumkur Road      3 BHK   \n",
       "40            Plot  Area  Ready To Move        Karuna Nagar  3 Bedroom   \n",
       "43        Built-up  Area  Ready To Move  Vishwapriya Layout  5 Bedroom   \n",
       "45  Super built-up  Area  Ready To Move         Basavangudi      2 BHK   \n",
       "\n",
       "    society  total_sqft  bath  balcony  price price_category  \n",
       "0       NaN        1920   4.0      2.0  121.0      High Cost  \n",
       "1   ValleCi        1500   4.0      3.0  192.0      High Cost  \n",
       "9   Adowslm        3100   4.0      2.0  350.0      High Cost  \n",
       "16  Mahosya        1920   3.0      2.0  134.0      High Cost  \n",
       "18      NaN        3600   5.0      3.0  145.0      High Cost  \n",
       "20  VDenaWa        2800   3.0      2.0  250.0      High Cost  \n",
       "26  BrdgeNo        1710   3.0      2.0  110.0      High Cost  \n",
       "27      NaN        2100   3.0      0.0  210.0      High Cost  \n",
       "31  Sahtsva        1354   3.0      1.0   90.0      High Cost  \n",
       "40  CoinoCu        2500   3.0      2.0  190.0      High Cost  \n",
       "43      NaN        2800   5.0      3.0  130.0      High Cost  \n",
       "45      NaN        1200   2.0      3.0  120.0      High Cost  "
      ]
     },
     "execution_count": 54,
     "metadata": {},
     "output_type": "execute_result"
    }
   ],
   "source": [
    "#write condition here\n",
    "df[df['price'] > df['price'].mean()]"
   ]
  }
 ],
 "metadata": {
  "kernelspec": {
   "display_name": "Python 3 (ipykernel)",
   "language": "python",
   "name": "python3"
  },
  "language_info": {
   "codemirror_mode": {
    "name": "ipython",
    "version": 3
   },
   "file_extension": ".py",
   "mimetype": "text/x-python",
   "name": "python",
   "nbconvert_exporter": "python",
   "pygments_lexer": "ipython3",
   "version": "3.9.19"
  }
 },
 "nbformat": 4,
 "nbformat_minor": 5
}
